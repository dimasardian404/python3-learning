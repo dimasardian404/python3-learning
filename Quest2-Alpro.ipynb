{
 "cells": [
  {
   "cell_type": "code",
   "execution_count": 10,
   "id": "362313d8-b349-44cb-876f-9f4e1629894b",
   "metadata": {},
   "outputs": [
    {
     "name": "stdin",
     "output_type": "stream",
     "text": [
      "Masukkan kalimatmu :  wrew\n"
     ]
    },
    {
     "name": "stdout",
     "output_type": "stream",
     "text": [
      "werw\n"
     ]
    }
   ],
   "source": [
    "# Challenge : \"Kata Ajaib\"\n",
    "\n",
    "inp = input(\"Masukkan kalimatmu : \")\n",
    "listk = inp.split()\n",
    "\n",
    "for kata in listk:\n",
    "    if len(inp) % 2 == 0:\n",
    "        print(inp[::-1])\n",
    "    else:\n",
    "        vokal = 'aeiou'\n",
    "        kbaru = ''\n",
    "        for i in inp:\n",
    "            if i in vokal:\n",
    "                kbaru += '*'\n",
    "            else:\n",
    "                kbaru += i\n",
    "                print(kbaru)"
   ]
  },
  {
   "cell_type": "code",
   "execution_count": 9,
   "id": "007bf207-c3b5-417a-a5c9-27001a2781cd",
   "metadata": {},
   "outputs": [
    {
     "name": "stdin",
     "output_type": "stream",
     "text": [
      "Masukkan kalimat:  dimas ardi\n"
     ]
    },
    {
     "name": "stdout",
     "output_type": "stream",
     "text": [
      "d*m*s\n",
      "idra\n"
     ]
    }
   ],
   "source": [
    "# Tanpa menggunakan define\n",
    "\n",
    "# Ambil input dari user\n",
    "kalimat = input(\"Masukkan kalimat: \")\n",
    "\n",
    "# Daftar huruf vokal\n",
    "vokal = 'aeiou'\n",
    "\n",
    "# Pecah kalimat menjadi list kata\n",
    "kata_list = kalimat.split()\n",
    "\n",
    "# Proses setiap kata satu per satu\n",
    "for kata in kata_list:\n",
    "    # Ubah ke huruf kecil jika ada huruf kapital\n",
    "    if any(huruf.isupper() for huruf in kata):\n",
    "        kata = kata.lower()\n",
    "\n",
    "    # Cek panjang kata: genap atau ganjil\n",
    "    if len(kata) % 2 == 0:\n",
    "        # Panjang genap → balikkan kata\n",
    "        hasil = kata[::-1]\n",
    "    else:\n",
    "        # Panjang ganjil → ubah huruf vokal jadi '*'\n",
    "        hasil = ''\n",
    "        for huruf in kata:\n",
    "            if huruf in vokal:\n",
    "                hasil += '*'\n",
    "            else:\n",
    "                hasil += huruf\n",
    "\n",
    "    # Cetak hasil manipulasi kata\n",
    "    print(hasil)"
   ]
  },
  {
   "cell_type": "code",
   "execution_count": 73,
   "id": "f95c0307-48ce-43af-8dce-27f6c3e02905",
   "metadata": {},
   "outputs": [
    {
     "name": "stdin",
     "output_type": "stream",
     "text": [
      "Masukkan kalimat:  aaa\n"
     ]
    },
    {
     "name": "stdout",
     "output_type": "stream",
     "text": [
      "***\n"
     ]
    }
   ],
   "source": [
    "# Menggunakan Define\n",
    "\n",
    "def ubah_kata_ajaib(kalimat):\n",
    "    vokal = 'aeiou'\n",
    "    kata_list = kalimat.split()\n",
    "\n",
    "    for kata in kata_list:\n",
    "        # Step 1: Ubah ke huruf kecil dulu jika ada huruf kapital\n",
    "        if any(huruf.isupper() for huruf in kata):\n",
    "            kata = kata.lower()\n",
    "\n",
    "        # Step 2: Cek panjang kata\n",
    "        if len(kata) % 2 == 0:\n",
    "            # Panjang genap → balikkan kata\n",
    "            hasil = kata[::-1]\n",
    "        else:\n",
    "            # Panjang ganjil → ubah vokal jadi '*'\n",
    "            hasil = ''.join(['*' if huruf in vokal else huruf for huruf in kata])\n",
    "\n",
    "        print(hasil)\n",
    "\n",
    "# Contoh penggunaan\n",
    "kalimat_input = input(\"Masukkan kalimat: \")\n",
    "ubah_kata_ajaib(kalimat_input)"
   ]
  },
  {
   "cell_type": "code",
   "execution_count": null,
   "id": "b002ff57-ad53-4292-8df5-01a1328faffc",
   "metadata": {},
   "outputs": [],
   "source": []
  }
 ],
 "metadata": {
  "kernelspec": {
   "display_name": "Python [conda env:base] *",
   "language": "python",
   "name": "conda-base-py"
  },
  "language_info": {
   "codemirror_mode": {
    "name": "ipython",
    "version": 3
   },
   "file_extension": ".py",
   "mimetype": "text/x-python",
   "name": "python",
   "nbconvert_exporter": "python",
   "pygments_lexer": "ipython3",
   "version": "3.13.5"
  }
 },
 "nbformat": 4,
 "nbformat_minor": 5
}

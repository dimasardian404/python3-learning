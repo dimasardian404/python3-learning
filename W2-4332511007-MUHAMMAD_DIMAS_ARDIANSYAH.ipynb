{
 "cells": [
  {
   "cell_type": "code",
   "execution_count": 34,
   "id": "c4037bae-d201-41e0-bc63-aab8a0057c5b",
   "metadata": {},
   "outputs": [
    {
     "name": "stdout",
     "output_type": "stream",
     "text": [
      "bagian blok if: 102\n"
     ]
    }
   ],
   "source": [
    "# contoh percabangan\n",
    "# operasi perbadingan \" > , < , == , !=\"\n",
    "# outputnya True atau False\n",
    "\n",
    "x = 102 # memberikan value di variabel x\n",
    "\n",
    "if x == 102:\n",
    "    print(\"bagian blok if: \" + str(x))\n",
    "else:\n",
    "    print(\"bagian blok else: \" + str(x))\n"
   ]
  },
  {
   "cell_type": "code",
   "execution_count": 39,
   "id": "be5d7e6e-a94f-49b0-bd5c-0fb95070be50",
   "metadata": {},
   "outputs": [
    {
     "name": "stdout",
     "output_type": "stream",
     "text": [
      "bagian blok else: 123\n"
     ]
    }
   ],
   "source": [
    "# indentasi else if 1 tab atau 4 spasi\n",
    "x = 123 # assign value to x\n",
    "\n",
    "if x == 99: # hasil perbandingan false\n",
    "    print(\"bagian blok if 2: \" + str(x))\n",
    "else:\n",
    "    print(\"bagian blok else: \" + str(x))"
   ]
  },
  {
   "cell_type": "code",
   "execution_count": 40,
   "id": "303c2626-ce12-4fb9-888d-b0a2bd0de561",
   "metadata": {},
   "outputs": [
    {
     "name": "stdout",
     "output_type": "stream",
     "text": [
      "nilai y lebih dari 11\n"
     ]
    }
   ],
   "source": [
    "y = 1001\n",
    "\n",
    "if y < 11:\n",
    "    print(\"nilai y kurang dari 11\")\n",
    "elif y > 11:\n",
    "    print(\"nilai y lebih dari 11\")\n",
    "else:\n",
    "    print(\"nilai y adalah 11\")"
   ]
  },
  {
   "cell_type": "code",
   "execution_count": 46,
   "id": "5b8bef97-49bb-4d6f-97dd-64269f90cf27",
   "metadata": {},
   "outputs": [
    {
     "name": "stdout",
     "output_type": "stream",
     "text": [
      "nilai y lebih dari 11, karena dia adalah 512\n"
     ]
    }
   ],
   "source": [
    "y = 12\n",
    "\n",
    "if y < 11:\n",
    "    print(\"nilai y kurang dari 11, karena dia adalah \" + str(y))\n",
    "elif y > 11:\n",
    "    y = y + 500\n",
    "    print(\"nilai y lebih dari 11, karena dia adalah \" + str(y))\n",
    "else:\n",
    "    print(\"nilai y adalah 11\")"
   ]
  },
  {
   "cell_type": "code",
   "execution_count": 67,
   "id": "58500cf3-9e34-49a7-8177-c523200d39b6",
   "metadata": {},
   "outputs": [
    {
     "name": "stdout",
     "output_type": "stream",
     "text": [
      "Your name is Leonardo or you're 43 years old\n"
     ]
    }
   ],
   "source": [
    "name = \"Walid\"\n",
    "age = 43\n",
    "\n",
    "if name == \"Leonardo\" and age == 43:\n",
    "    print(\"Your name is Leonardo and you're 43 years old\")\n",
    "if name == \"Leonardo\" or age == 43:\n",
    "    print(\"Your name is Leonardo or you're 43 years old\")\n",
    "else:\n",
    "    print(\"Your real name is \" + name + \" and you're \" + str(age) + \" years old\")"
   ]
  },
  {
   "cell_type": "code",
   "execution_count": 70,
   "id": "3b7a5ae8-2884-4568-bd41-b791cad82cbc",
   "metadata": {},
   "outputs": [
    {
     "name": "stdout",
     "output_type": "stream",
     "text": [
      "Namamu Pasti Fufufafa atau Teddy\n"
     ]
    }
   ],
   "source": [
    "name = \"Teddy\"\n",
    "\n",
    "if name in [\"Fufufafa\", \"Teddy\"]: #list\n",
    "    print(\"Namamu Pasti Fufufafa atau Teddy\")\n",
    "else:\n",
    "    print(\"namamu yang asli adalah \" + name)"
   ]
  },
  {
   "cell_type": "code",
   "execution_count": 71,
   "id": "8086a1a8-dbd3-4f0d-aeab-85b95749ea26",
   "metadata": {},
   "outputs": [
    {
     "name": "stdout",
     "output_type": "stream",
     "text": [
      "['Fufufafa', 'Teddy', 'Clint', 555]\n",
      "namamu yang asli adalah Bruno\n"
     ]
    }
   ],
   "source": [
    "name = \"Bruno\"\n",
    "kumpulan_nama = [\"Fufufafa\", \"Teddy\", \"Clint\" ,555]\n",
    "\n",
    "print(kumpulan_nama)\n",
    "\n",
    "if name in kumpulan_nama :\n",
    "    print(\"Namamu Pasti Fufufafa atau Teddy\")\n",
    "else:\n",
    "    print(\"namamu yang asli adalah \" + name)\n",
    "    "
   ]
  }
 ],
 "metadata": {
  "kernelspec": {
   "display_name": "Python 3 (ipykernel)",
   "language": "python",
   "name": "python3"
  },
  "language_info": {
   "codemirror_mode": {
    "name": "ipython",
    "version": 3
   },
   "file_extension": ".py",
   "mimetype": "text/x-python",
   "name": "python",
   "nbconvert_exporter": "python",
   "pygments_lexer": "ipython3",
   "version": "3.13.5"
  }
 },
 "nbformat": 4,
 "nbformat_minor": 5
}

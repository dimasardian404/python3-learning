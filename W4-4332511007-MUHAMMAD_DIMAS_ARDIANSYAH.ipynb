{
 "cells": [
  {
   "cell_type": "code",
   "execution_count": 14,
   "id": "f3ba7386-fc79-41b0-b7fd-f6b2c615a092",
   "metadata": {},
   "outputs": [
    {
     "name": "stdout",
     "output_type": "stream",
     "text": [
      "5\n",
      "6\n",
      "7\n",
      "8\n",
      "9\n"
     ]
    }
   ],
   "source": [
    "# While Loop\n",
    "n = 5\n",
    "\n",
    "while n < 10:\n",
    "    print(n)\n",
    "    n=n+1"
   ]
  },
  {
   "cell_type": "code",
   "execution_count": 1,
   "id": "c6801aba-4fa6-4f87-b867-e97e490271b0",
   "metadata": {},
   "outputs": [
    {
     "name": "stdout",
     "output_type": "stream",
     "text": [
      "*\n",
      "*\n",
      "*\n",
      "*\n",
      "*\n",
      "*\n",
      "*\n"
     ]
    }
   ],
   "source": [
    "n = 7\n",
    "\n",
    "while n > 0:\n",
    "    print(\"*\")\n",
    "    n=n-1"
   ]
  },
  {
   "cell_type": "code",
   "execution_count": 3,
   "id": "5f027049-3f9f-4563-a1c5-33e41a7a2d51",
   "metadata": {},
   "outputs": [
    {
     "name": "stdout",
     "output_type": "stream",
     "text": [
      "Rocket launch in :\n",
      "\n",
      "10\n",
      "9\n",
      "8\n",
      "7\n",
      "6\n",
      "5\n",
      "4\n",
      "3\n",
      "2\n",
      "1\n",
      "\n",
      "Rocket Launched!\n"
     ]
    }
   ],
   "source": [
    "import time\n",
    "\n",
    "print(\"Rocket launch in :\\n\")\n",
    "n = 10\n",
    "while n > 0:\n",
    "    print(n)\n",
    "    #n=n-1\n",
    "    n-=1\n",
    "    time.sleep(1)\n",
    "\n",
    "print(\"\\nRocket Launched!\")"
   ]
  },
  {
   "cell_type": "code",
   "execution_count": 9,
   "id": "24dec5d1-d144-4d84-b6ee-9ef48f8fce41",
   "metadata": {},
   "outputs": [
    {
     "name": "stdout",
     "output_type": "stream",
     "text": [
      "1\n",
      "2\n",
      "3\n",
      "4\n",
      "5\n",
      "6\n",
      "7\n",
      "8\n",
      "9\n"
     ]
    }
   ],
   "source": [
    "hitung = 0\n",
    "while True:\n",
    "    hitung += 1\n",
    "    print(hitung)\n",
    "    if hitung >= 9:\n",
    "        break"
   ]
  },
  {
   "cell_type": "code",
   "execution_count": 3,
   "id": "dc338277-f504-4921-905c-048fab36c588",
   "metadata": {},
   "outputs": [
    {
     "name": "stdout",
     "output_type": "stream",
     "text": [
      "0\n",
      "1\n",
      "2\n",
      "3\n",
      "4\n",
      "5\n",
      "6\n",
      "7\n",
      "8\n",
      "9\n",
      "10\n",
      "\n",
      "Rocket Launched!\n"
     ]
    }
   ],
   "source": [
    "# For Loop\n",
    "import time\n",
    "\n",
    "for x in range(11):\n",
    "    print(x)\n",
    "    time.sleep(0.5)\n",
    "\n",
    "print(\"\\nRocket Launched!\")"
   ]
  },
  {
   "cell_type": "code",
   "execution_count": 17,
   "id": "b3edb23b-1fdb-4caf-a7de-de2029554e35",
   "metadata": {},
   "outputs": [
    {
     "name": "stdout",
     "output_type": "stream",
     "text": [
      "1\n",
      "3\n",
      "5\n",
      "7\n",
      "9\n",
      "11\n",
      "13\n",
      "15\n",
      "17\n",
      "19\n"
     ]
    }
   ],
   "source": [
    "# Mencetak angka ganjil\n",
    "for x in range(20):\n",
    "    if x % 2 == 0:\n",
    "        continue\n",
    "    print(x)"
   ]
  },
  {
   "cell_type": "code",
   "execution_count": 8,
   "id": "6016ebaa-4dfa-410e-bb07-eb5bec350ccb",
   "metadata": {},
   "outputs": [
    {
     "name": "stdout",
     "output_type": "stream",
     "text": [
      "Masukkan angka\n"
     ]
    },
    {
     "name": "stdin",
     "output_type": "stream",
     "text": [
      " 10\n"
     ]
    },
    {
     "name": "stdout",
     "output_type": "stream",
     "text": [
      "10 adalah angka genap\n"
     ]
    }
   ],
   "source": [
    "while True:\n",
    "    print('Masukkan angka')\n",
    "    x = input()\n",
    "    x = int(x)\n",
    "    if x % 2 == 1:\n",
    "        print(str(x) + \" adalah angka ganjil\")\n",
    "        break\n",
    "    else:\n",
    "        print(str(x) + ' adalah angka genap')\n",
    "        break"
   ]
  },
  {
   "cell_type": "code",
   "execution_count": 14,
   "id": "2b19bffc-9be0-45ea-949d-2f4e4a331b63",
   "metadata": {},
   "outputs": [
    {
     "name": "stdout",
     "output_type": "stream",
     "text": [
      "Hola Alucard\n",
      "Hola Clint\n",
      "Hola Deddy\n"
     ]
    }
   ],
   "source": [
    "#names = ['Alucard','Clint','Deddy'] #list\n",
    "\n",
    "for name in ['Alucard','Clint','Deddy']:\n",
    "    print('Hola ' + name)"
   ]
  },
  {
   "cell_type": "code",
   "execution_count": 19,
   "id": "1154da01-c3bc-4b49-b703-2027ccc1eef6",
   "metadata": {},
   "outputs": [
    {
     "name": "stdout",
     "output_type": "stream",
     "text": [
      "0\n",
      "1\n",
      "2\n",
      "3\n",
      "4\n"
     ]
    }
   ],
   "source": [
    "# Nested loop\n",
    "\n",
    "# for x in range(2):\n",
    "#     for x in range(2):\n",
    "#         print(x)\n",
    "\n",
    "n = 0\n",
    "x = 0\n",
    "while n < 5:\n",
    "    while x < 5:\n",
    "        print(x)\n",
    "        x =x+1\n",
    "    n=n+1"
   ]
  },
  {
   "cell_type": "code",
   "execution_count": null,
   "id": "07fbdc4c-1c05-4322-b5b4-161a1dc492f5",
   "metadata": {},
   "outputs": [],
   "source": []
  }
 ],
 "metadata": {
  "kernelspec": {
   "display_name": "Python 3 (ipykernel)",
   "language": "python",
   "name": "python3"
  },
  "language_info": {
   "codemirror_mode": {
    "name": "ipython",
    "version": 3
   },
   "file_extension": ".py",
   "mimetype": "text/x-python",
   "name": "python",
   "nbconvert_exporter": "python",
   "pygments_lexer": "ipython3",
   "version": "3.13.5"
  }
 },
 "nbformat": 4,
 "nbformat_minor": 5
}

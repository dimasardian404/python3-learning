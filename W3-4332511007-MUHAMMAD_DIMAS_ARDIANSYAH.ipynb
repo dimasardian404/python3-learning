{
 "cells": [
  {
   "cell_type": "code",
   "execution_count": 16,
   "id": "fe466ebe-aa8d-425f-8208-df078c5bed2d",
   "metadata": {},
   "outputs": [
    {
     "name": "stdout",
     "output_type": "stream",
     "text": [
      "Halo batamindo\n",
      "Halo jogja\n"
     ]
    }
   ],
   "source": [
    "# String manipulation\n",
    "\n",
    "astring = \"Halo batamindo\"\n",
    "bstring = 'Halo jogja'\n",
    "cstring = \"adwHadjadnajxcHdwHwjabbsjdabdjasH\"\n",
    "\n",
    "print(astring)\n",
    "print(bstring)"
   ]
  },
  {
   "cell_type": "code",
   "execution_count": 33,
   "id": "68a4d9d6-bebc-44cd-9d0d-e4618256a5ac",
   "metadata": {},
   "outputs": [
    {
     "name": "stdout",
     "output_type": "stream",
     "text": [
      "3\n"
     ]
    }
   ],
   "source": [
    "print(astring.count(\"a\"))"
   ]
  },
  {
   "cell_type": "code",
   "execution_count": 37,
   "id": "32c90bfc-27b6-4eae-a67d-ce3c0a6f24c8",
   "metadata": {},
   "outputs": [
    {
     "name": "stdout",
     "output_type": "stream",
     "text": [
      "0\n",
      "4\n"
     ]
    }
   ],
   "source": [
    "print(cstring.count(\"j\"))\n",
    "print(cstring.count(\"H\"))"
   ]
  },
  {
   "cell_type": "code",
   "execution_count": 17,
   "id": "bad3c0b1-eaaf-40ee-b04e-e2cc01677e42",
   "metadata": {},
   "outputs": [
    {
     "name": "stdout",
     "output_type": "stream",
     "text": [
      "HALO BATAMINDO\n",
      "halo jogja\n",
      "Adwhadjadnajxchdwhwjabbsjdabdjash\n"
     ]
    }
   ],
   "source": [
    "print(astring.upper())\n",
    "print(bstring.lower())\n",
    "print(cstring.title())"
   ]
  },
  {
   "cell_type": "code",
   "execution_count": 44,
   "id": "6508d950-902c-4bda-8f64-aeacd3bf66a8",
   "metadata": {},
   "outputs": [
    {
     "name": "stdout",
     "output_type": "stream",
     "text": [
      "ibuka 1\n",
      "ibuka 1\n"
     ]
    }
   ],
   "source": [
    "# C h a r l i e   C h a  p l i n\n",
    "# 0 1 2 3 4 5 6 7 8 9 ...\n",
    "# List start with index 0 and Space is included in a list\n",
    "\n",
    "dstring = \"Akan dibuka 19 Juta Lapangan Pekerjaan!\"\n",
    "\n",
    "print(dstring[6:13])\n",
    "print(dstring[6:13:1])\n",
    "# This 2 syntax is same in output\n",
    "# print character to index num 6 to 13\n",
    "# The extended slice syntax is [start:stop:step]\n",
    "# if the step is no fill, the default value is 1"
   ]
  },
  {
   "cell_type": "code",
   "execution_count": 45,
   "id": "b522ce72-56af-41d8-a381-6de96b77df2f",
   "metadata": {},
   "outputs": [
    {
     "name": "stdout",
     "output_type": "stream",
     "text": [
      "Anik1\n"
     ]
    }
   ],
   "source": [
    "print(dstring[0:15:3])\n",
    "\n",
    "# C h a r l i e   C h a  p l i n\n",
    "# 0 1 2 3 4 5 6 7 8 9 ...\n",
    "# The last value is step, so that's 3 steps"
   ]
  },
  {
   "cell_type": "code",
   "execution_count": 88,
   "id": "f51bfddf-a5f7-4748-b1c1-69588f8c8423",
   "metadata": {},
   "outputs": [
    {
     "name": "stdout",
     "output_type": "stream",
     "text": [
      "!naajrekeP nagnapaL atuJ 91 akubid nakA\n",
      "rekeP na\n"
     ]
    }
   ],
   "source": [
    "# reverse string can be use by adding \"-\"\n",
    "\n",
    "print(dstring[::-1])\n",
    "print(dstring[33:25:-1])"
   ]
  },
  {
   "cell_type": "code",
   "execution_count": 46,
   "id": "413e7a1c-8e4c-4ec2-b981-3468732503e6",
   "metadata": {},
   "outputs": [
    {
     "name": "stdout",
     "output_type": "stream",
     "text": [
      "True\n",
      "True\n"
     ]
    }
   ],
   "source": [
    "astring = \"Halo batamindo\"\n",
    "\n",
    "print(astring.startswith(\"Ha\")) \n",
    "print(astring.endswith(\"o\"))"
   ]
  },
  {
   "cell_type": "code",
   "execution_count": 65,
   "id": "7dce9358-f22f-4b8a-94ef-39166f318cb7",
   "metadata": {},
   "outputs": [
    {
     "name": "stdout",
     "output_type": "stream",
     "text": [
      "Halo\n",
      "batamindo\n"
     ]
    }
   ],
   "source": [
    "astring = \"Halo batamindo\"\n",
    "afewwords = astring.split(\" \")\n",
    "print(afewwords[0])\n",
    "print(afewwords[1])"
   ]
  },
  {
   "cell_type": "code",
   "execution_count": 60,
   "id": "789b1afd-cc50-4a4d-af24-47cba7e9bac4",
   "metadata": {},
   "outputs": [
    {
     "name": "stdout",
     "output_type": "stream",
     "text": [
      "Length of s = 54 \n",
      "Index 8 is The first occurrence of the letter a \n",
      "First seven characters are 'This is' \n",
      "The seventeen character is 't' \n",
      "The characters is with add index are 'Ti sacmltl admsrn htIcntiko' \n",
      "The last ten characters are 'n think of' \n",
      "Count how many of character ' ' is occurred are 10 times \n"
     ]
    }
   ],
   "source": [
    "s = \"This is a completely random string that I can think of\"\n",
    "\n",
    "# %d needs real number or integer\n",
    "print(\"Length of s = %d \" % len(s)) \n",
    "\n",
    "# First occurrence of \"char\"\n",
    "print(\"Index %d is The first occurrence of the letter a \" % s.index(\"a\"))\n",
    "\n",
    "# %s is string\n",
    "# Slicing string\n",
    "print(\"First seven characters are '%s' \" % s[0:7]) # same with [:7]\n",
    "print(\"The seventeen character is '%s' \" % s[16]) # numbered index\n",
    "print(\"The characters is with add index are '%s' \" % s[::2])\n",
    "print(\"The last ten characters are '%s' \" % s[-10:])\n",
    "print(\"Count how many of character ' ' is occurred are %d times \" % s.count(' '))"
   ]
  },
  {
   "cell_type": "code",
   "execution_count": null,
   "id": "7a133911-b1b9-434c-a753-4b6a46454fe2",
   "metadata": {},
   "outputs": [],
   "source": []
  }
 ],
 "metadata": {
  "kernelspec": {
   "display_name": "Python 3 (ipykernel)",
   "language": "python",
   "name": "python3"
  },
  "language_info": {
   "codemirror_mode": {
    "name": "ipython",
    "version": 3
   },
   "file_extension": ".py",
   "mimetype": "text/x-python",
   "name": "python",
   "nbconvert_exporter": "python",
   "pygments_lexer": "ipython3",
   "version": "3.13.5"
  }
 },
 "nbformat": 4,
 "nbformat_minor": 5
}

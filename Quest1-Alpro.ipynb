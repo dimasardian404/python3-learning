{
 "cells": [
  {
   "cell_type": "code",
   "execution_count": 11,
   "id": "0099d17e-a0bd-4a3e-97d6-5b967ec41a27",
   "metadata": {},
   "outputs": [],
   "source": [
    "import random\n",
    "# Challenge Time"
   ]
  },
  {
   "cell_type": "code",
   "execution_count": 24,
   "id": "02d2cccf-48c8-436c-9ccc-6fac9f661e2f",
   "metadata": {},
   "outputs": [
    {
     "name": "stdout",
     "output_type": "stream",
     "text": [
      "Programs Penentu Jodoh\n"
     ]
    },
    {
     "name": "stdin",
     "output_type": "stream",
     "text": [
      "\n",
      "Masukkan nama lelaki = asaskasasdndasn\n",
      "Masukkan nama wanita = adasdwlwl\n"
     ]
    },
    {
     "name": "stdout",
     "output_type": "stream",
     "text": [
      "\n",
      "Total point Cinta antara 24\n",
      "\n",
      "Tunggu Jadian\n"
     ]
    },
    {
     "name": "stdin",
     "output_type": "stream",
     "text": [
      "\n",
      "Lanjut ? ya/ga : ga\n"
     ]
    },
    {
     "name": "stdout",
     "output_type": "stream",
     "text": [
      "\n",
      "Program Selesai\n"
     ]
    }
   ],
   "source": [
    "print(\"Programs Penentu Jodoh\")\n",
    "while True:\n",
    "    name1 = input(\"\\nMasukkan nama lelaki =\")\n",
    "    name2 = input(\"Masukkan nama wanita =\")\n",
    "\n",
    "    tname = name1.count(\" \")\n",
    "    pname = len(name1) - tname\n",
    "\n",
    "    tname2 = name2.count(\" \")\n",
    "    pname2 = len(name2) - tname2\n",
    "\n",
    "    itung = pname + pname2\n",
    "    print(\"\\nTotal point Cinta antara \" + str(itung))\n",
    "\n",
    "    if itung % 5 == 0:\n",
    "        print(\"\\nCocok sung ae\")\n",
    "    elif itung % 2 == 0:\n",
    "        print(\"\\nTunggu Jadian\")\n",
    "    else:\n",
    "        print(\"\\nGa hoki sih kalo kata gw mah\")\n",
    "    \n",
    "    p = input(\"\\nLanjut ? ya/ga :\")\n",
    "    if p == \"ga\":\n",
    "        break\n",
    "    else:\n",
    "        continue\n",
    "\n",
    "print(\"\\nProgram Selesai\")"
   ]
  },
  {
   "cell_type": "code",
   "execution_count": 20,
   "id": "fea02162-df52-4f88-920e-be0bf8e509ad",
   "metadata": {},
   "outputs": [
    {
     "name": "stdin",
     "output_type": "stream",
     "text": [
      "Nama 1 = Dimas\n",
      "Nama 2 = Davina\n"
     ]
    },
    {
     "name": "stdout",
     "output_type": "stream",
     "text": [
      "78%\n",
      "Cocok sung ae\n"
     ]
    }
   ],
   "source": [
    "# name1 = input(\"Nama 1 =\" )\n",
    "# name2 = input(\"Nama 2 =\" )\n",
    "\n",
    "# # tname = name1.count(\" \")\n",
    "# # pname = len(name1) - tname\n",
    "# # tname2 = name2.count(\" \")\n",
    "# # pname2 = len(name2) - tname2\n",
    "\n",
    "# # itung = pname + pname2\n",
    "\n",
    "# itung = random.randint(1, 100)\n",
    "\n",
    "# print(str(itung) + \"%\")\n",
    "\n",
    "# if itung >= 75:\n",
    "#     print(\"Cocok sung ae\")\n",
    "# elif itung >= 50:\n",
    "#     print(\"Tunggu Jadian\")\n",
    "# else:\n",
    "#     print(\"Ga hoki sih kalo kata gw mah\")"
   ]
  },
  {
   "cell_type": "code",
   "execution_count": null,
   "id": "750191c7-8d74-40ad-ab22-763cba76f678",
   "metadata": {},
   "outputs": [],
   "source": []
  }
 ],
 "metadata": {
  "kernelspec": {
   "display_name": "Python [conda env:base] *",
   "language": "python",
   "name": "conda-base-py"
  },
  "language_info": {
   "codemirror_mode": {
    "name": "ipython",
    "version": 3
   },
   "file_extension": ".py",
   "mimetype": "text/x-python",
   "name": "python",
   "nbconvert_exporter": "python",
   "pygments_lexer": "ipython3",
   "version": "3.13.5"
  }
 },
 "nbformat": 4,
 "nbformat_minor": 5
}

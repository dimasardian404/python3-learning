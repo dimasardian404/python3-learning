{
 "cells": [
  {
   "cell_type": "code",
   "execution_count": 19,
   "id": "cf3b434d-a118-4212-90df-4045364e213d",
   "metadata": {},
   "outputs": [
    {
     "name": "stdout",
     "output_type": "stream",
     "text": [
      "[24, 58, 104, 126, 162, 236, 236]\n"
     ]
    }
   ],
   "source": [
    "#1\n",
    "\n",
    "numbers = [951, 402, 984, 651, 360, 69, 408, 319, 601, 485, 980, 507, 725, 547, 544,\n",
    "           615, 83, 165, 141, 501, 263, 617, 865, 775, 219, 390, 984, 592, 236, 105, \n",
    "           942, 941, 386, 462, 47, 418, 907, 344, 236, 375, 823, 566, 597, 978, 328,\n",
    "           615, 953, 345, 399, 162, 758, 219, 918, 237, 412, 566, 826, 248, 866, 950,\n",
    "           626, 949, 687, 217, 815, 67, 104, 58, 512, 24, 892, 894, 767, 553, 81, 379,\n",
    "           843, 831, 445, 742, 717, 958, 669, 842, 451, 688, 753, 854, 685, 693, 857,\n",
    "           440, 380, 126, 721, 328, 753, 470, 743, 527]\n",
    "\n",
    "numbers.sort()\n",
    "hasil = []\n",
    "#print(numbers)\n",
    "for num in numbers:\n",
    "    if num < 237: \n",
    "        if num % 2 == 0:\n",
    "            hasil.append(num)\n",
    "    elif num == 237:\n",
    "        break\n",
    "\n",
    "print(hasil)\n",
    "\n",
    "#Menyaring angka genap sebelum angka 237\n",
    "# even_numbers_before_237 = []\n",
    "\n",
    "# for num in numbers:\n",
    "#     if num == 237:\n",
    "#         break\n",
    "#     if num % 2 == 0:\n",
    "#         even_numbers_before_237.append(num)\n",
    "\n",
    "# # Mencetak hasilnya\n",
    "# print(even_numbers_before_237)"
   ]
  },
  {
   "cell_type": "code",
   "execution_count": 4,
   "id": "6224097d-9e24-4d75-a056-583dbf02ccf8",
   "metadata": {},
   "outputs": [
    {
     "name": "stdin",
     "output_type": "stream",
     "text": [
      "Masukkan nilai n:  5\n"
     ]
    },
    {
     "name": "stdout",
     "output_type": "stream",
     "text": [
      "1 \n",
      "1 2 \n",
      "1 2 3 \n",
      "1 2 3 4 \n",
      "1 2 3 4 5 \n"
     ]
    }
   ],
   "source": [
    "#2\n",
    "\n",
    "# Input jumlah baris dari user\n",
    "n = int(input(\"Masukkan nilai n: \"))\n",
    "\n",
    "# Nested loop untuk mencetak pola\n",
    "for i in range(1, n+1):\n",
    "    for j in range(1, i+1):\n",
    "        print(j, end=\" \")\n",
    "    print()  # Pindah baris setelah mencetak satu baris"
   ]
  },
  {
   "cell_type": "code",
   "execution_count": 21,
   "id": "6eb86e9c-884c-44fa-84cb-9d79427c50e1",
   "metadata": {},
   "outputs": [
    {
     "name": "stdin",
     "output_type": "stream",
     "text": [
      "Masukkan nilai n:  22\n"
     ]
    },
    {
     "name": "stdout",
     "output_type": "stream",
     "text": [
      "**********************\n",
      "*                    *\n",
      "*                    *\n",
      "*                    *\n",
      "*                    *\n",
      "*                    *\n",
      "*                    *\n",
      "*                    *\n",
      "*                    *\n",
      "*                    *\n",
      "*                    *\n",
      "*                    *\n",
      "*                    *\n",
      "*                    *\n",
      "*                    *\n",
      "*                    *\n",
      "*                    *\n",
      "*                    *\n",
      "*                    *\n",
      "*                    *\n",
      "*                    *\n",
      "**********************\n"
     ]
    }
   ],
   "source": [
    "# Meminta input dari pengguna\n",
    "n = int(input(\"Masukkan nilai n: \"))\n",
    "\n",
    "# Mencetak pola\n",
    "for i in range(n):\n",
    "    if i == 0 or i == n - 1:\n",
    "        # Baris pertama dan terakhir, cetak n bintang\n",
    "        print('*' * n)\n",
    "    else:\n",
    "        # Baris lainnya, cetak 1 bintang di posisi pertama dan terakhir\n",
    "        print('*' + ' ' * (n - 2) + '*')"
   ]
  }
 ],
 "metadata": {
  "kernelspec": {
   "display_name": "Python [conda env:base] *",
   "language": "python",
   "name": "conda-base-py"
  },
  "language_info": {
   "codemirror_mode": {
    "name": "ipython",
    "version": 3
   },
   "file_extension": ".py",
   "mimetype": "text/x-python",
   "name": "python",
   "nbconvert_exporter": "python",
   "pygments_lexer": "ipython3",
   "version": "3.13.5"
  }
 },
 "nbformat": 4,
 "nbformat_minor": 5
}

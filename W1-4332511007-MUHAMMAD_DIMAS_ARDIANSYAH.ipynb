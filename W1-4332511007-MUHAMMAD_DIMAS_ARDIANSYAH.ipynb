{
 "cells": [
  {
   "cell_type": "code",
   "execution_count": 1,
   "id": "4f5e8fc9-683a-4b44-9399-04a5ad7c817f",
   "metadata": {},
   "outputs": [
    {
     "name": "stdout",
     "output_type": "stream",
     "text": [
      "Hello world.... Indonesia\n"
     ]
    }
   ],
   "source": [
    "print(\"Hello world.... Indonesia\")"
   ]
  },
  {
   "cell_type": "code",
   "execution_count": 7,
   "id": "bde502f6-397f-4d35-9936-427c499fad6e",
   "metadata": {},
   "outputs": [],
   "source": [
    "Luas = 100"
   ]
  },
  {
   "cell_type": "code",
   "execution_count": 3,
   "id": "c7fa0b42-f2aa-41eb-bc8f-924660d6eac1",
   "metadata": {},
   "outputs": [
    {
     "name": "stdout",
     "output_type": "stream",
     "text": [
      "100\n"
     ]
    }
   ],
   "source": [
    "print(Luas)"
   ]
  },
  {
   "cell_type": "code",
   "execution_count": 4,
   "id": "dca0961d-b513-404d-b017-bffa5bfbf28f",
   "metadata": {},
   "outputs": [
    {
     "name": "stdout",
     "output_type": "stream",
     "text": [
      "Luas\n"
     ]
    }
   ],
   "source": [
    "print(\"Luas\")"
   ]
  },
  {
   "cell_type": "code",
   "execution_count": 5,
   "id": "0cdde748-b720-4ee8-ae29-060d5781d510",
   "metadata": {},
   "outputs": [],
   "source": [
    "Luas = 1000"
   ]
  },
  {
   "cell_type": "code",
   "execution_count": 8,
   "id": "6c1f0389-1eb4-41e1-8d41-e74e6cc4cc57",
   "metadata": {},
   "outputs": [
    {
     "name": "stdout",
     "output_type": "stream",
     "text": [
      "100\n"
     ]
    }
   ],
   "source": [
    "print(Luas)"
   ]
  },
  {
   "cell_type": "code",
   "execution_count": 9,
   "id": "7afa67bd-d3ca-4fb6-8acd-5194dc7d7c68",
   "metadata": {},
   "outputs": [],
   "source": [
    "Panjang = 200"
   ]
  },
  {
   "cell_type": "code",
   "execution_count": 12,
   "id": "495cb8bf-9dea-4652-8cc2-0a78459cf5be",
   "metadata": {
    "scrolled": true
   },
   "outputs": [
    {
     "data": {
      "text/plain": [
       "0.05"
      ]
     },
     "execution_count": 12,
     "metadata": {},
     "output_type": "execute_result"
    }
   ],
   "source": [
    "Luas / Panjang"
   ]
  },
  {
   "cell_type": "code",
   "execution_count": 19,
   "id": "79433ab1-93d1-46ea-8b49-6772f9bb9054",
   "metadata": {},
   "outputs": [],
   "source": [
    "Luas = 10 #variabel"
   ]
  },
  {
   "cell_type": "code",
   "execution_count": 17,
   "id": "48d0d64d-e1b3-426a-b20d-379847117401",
   "metadata": {},
   "outputs": [],
   "source": [
    "a = 10\n",
    "b = 20\n",
    "c = a - b"
   ]
  },
  {
   "cell_type": "code",
   "execution_count": 18,
   "id": "00fe68c8-3b72-4a54-86d8-df6d2f7709f8",
   "metadata": {},
   "outputs": [
    {
     "name": "stdout",
     "output_type": "stream",
     "text": [
      "-10\n"
     ]
    }
   ],
   "source": [
    "print(c)"
   ]
  },
  {
   "cell_type": "code",
   "execution_count": 20,
   "id": "fa282a0d-037b-4c8e-8ed7-3b7a2b6dcf51",
   "metadata": {},
   "outputs": [],
   "source": [
    "# komentar berada di belakang tagar"
   ]
  },
  {
   "cell_type": "code",
   "execution_count": 21,
   "id": "05f7386b-69b3-4eea-ae46-ff15774889cb",
   "metadata": {},
   "outputs": [],
   "source": [
    "apakah_ini_komentar = 100 # apakah_ini_komentar itu variable"
   ]
  },
  {
   "cell_type": "code",
   "execution_count": 25,
   "id": "4aed0c79-dd8a-4e4e-9b7d-6c09ddb0991a",
   "metadata": {},
   "outputs": [
    {
     "data": {
      "text/plain": [
       "'\\nkomentar\\nmulti\\nbaris\\n'"
      ]
     },
     "execution_count": 25,
     "metadata": {},
     "output_type": "execute_result"
    }
   ],
   "source": [
    "'''\n",
    "komentar\n",
    "multi\n",
    "baris\n",
    "'''"
   ]
  },
  {
   "cell_type": "code",
   "execution_count": 32,
   "id": "67d68c8e-a7ed-4d4d-929c-a7af250b30b2",
   "metadata": {},
   "outputs": [],
   "source": [
    "# Operasi aritmatika dasar pada Python\n",
    "a = 100 # tipe data integer / angka\n",
    "b = 50\n",
    "\n",
    "c = a * b\n",
    "d = a / b\n",
    "e = c - d\n",
    "f = e + a + b\n",
    "\n",
    "g = \"Ini adalah string\" # tipe data string / karakter\n",
    "h = a * g"
   ]
  },
  {
   "cell_type": "code",
   "execution_count": 49,
   "id": "15c23714-bdd8-4eea-b224-45034a342f91",
   "metadata": {},
   "outputs": [
    {
     "name": "stdout",
     "output_type": "stream",
     "text": [
      "ini adalah penggabungan dua nilai string g:Ini adalah string\n"
     ]
    }
   ],
   "source": [
    "print(\"ini adalah penggabungan dua nilai string g:\" + g) # harus ada concatenation / penggabungan\n",
    "# kalau di print dengan variabel c akan error karena variabel c adalah integer\n",
    "# penggabungan antara string dengan variabel yang juga string"
   ]
  },
  {
   "cell_type": "code",
   "execution_count": 50,
   "id": "856a4d72-8a80-4097-b9c1-82ef74c0b916",
   "metadata": {},
   "outputs": [
    {
     "data": {
      "text/plain": [
       "int"
      ]
     },
     "execution_count": 50,
     "metadata": {},
     "output_type": "execute_result"
    }
   ],
   "source": [
    "type(a)"
   ]
  },
  {
   "cell_type": "code",
   "execution_count": 51,
   "id": "70761313-81e5-480c-8c69-a4b5f0443291",
   "metadata": {},
   "outputs": [
    {
     "data": {
      "text/plain": [
       "str"
      ]
     },
     "execution_count": 51,
     "metadata": {},
     "output_type": "execute_result"
    }
   ],
   "source": [
    "type(g)"
   ]
  },
  {
   "cell_type": "code",
   "execution_count": 52,
   "id": "a6ee2d58-a02e-4fad-9766-334ef93fa7e8",
   "metadata": {},
   "outputs": [
    {
     "data": {
      "text/plain": [
       "str"
      ]
     },
     "execution_count": 52,
     "metadata": {},
     "output_type": "execute_result"
    }
   ],
   "source": [
    "type(h)"
   ]
  },
  {
   "cell_type": "code",
   "execution_count": 58,
   "id": "d6e617d6-994e-4c97-8f75-3e24d67b030a",
   "metadata": {},
   "outputs": [
    {
     "data": {
      "text/plain": [
       "int"
      ]
     },
     "execution_count": 58,
     "metadata": {},
     "output_type": "execute_result"
    }
   ],
   "source": [
    "str(b) # str berfungsi untuk mengkonversi int ke String\n",
    "type(b)"
   ]
  },
  {
   "cell_type": "code",
   "execution_count": 59,
   "id": "50f50cb5-c006-4c42-bba1-24127912a1e2",
   "metadata": {},
   "outputs": [],
   "source": [
    "b = str(b)"
   ]
  },
  {
   "cell_type": "code",
   "execution_count": 61,
   "id": "0d4e7f20-3c23-4402-baa8-7d1933c5c1d2",
   "metadata": {},
   "outputs": [
    {
     "data": {
      "text/plain": [
       "str"
      ]
     },
     "execution_count": 61,
     "metadata": {},
     "output_type": "execute_result"
    }
   ],
   "source": [
    "type(b)"
   ]
  },
  {
   "cell_type": "code",
   "execution_count": 63,
   "id": "523b5769-a63e-432e-883c-d4f02c4da8b6",
   "metadata": {},
   "outputs": [
    {
     "name": "stdout",
     "output_type": "stream",
     "text": [
      "Hasil perhitungan b: 50\n"
     ]
    }
   ],
   "source": [
    "print(\"Hasil perhitungan b: \"+b)"
   ]
  },
  {
   "cell_type": "code",
   "execution_count": 66,
   "id": "731f8fc9-bf49-47a2-b243-7c0abbb3f5bf",
   "metadata": {},
   "outputs": [
    {
     "name": "stdout",
     "output_type": "stream",
     "text": [
      "Hasil perhitungan f: 5148.0\n"
     ]
    }
   ],
   "source": [
    "print(\"Hasil perhitungan f: \"+str(f))"
   ]
  },
  {
   "cell_type": "code",
   "execution_count": 73,
   "id": "99d53b10-daca-4a74-bc6d-7da6d070c0a1",
   "metadata": {},
   "outputs": [
    {
     "name": "stdout",
     "output_type": "stream",
     "text": [
      "520\n"
     ]
    }
   ],
   "source": [
    "x = \"13\"\n",
    "y = \"40\"\n",
    "z = int(x) * int(y)\n",
    "print(z)"
   ]
  },
  {
   "cell_type": "code",
   "execution_count": 74,
   "id": "9e7478c2-d5b2-40c3-8d92-407677836fef",
   "metadata": {},
   "outputs": [],
   "source": [
    "name = \"MUhamMaD DiMAs aRDIansYaH\""
   ]
  },
  {
   "cell_type": "code",
   "execution_count": 76,
   "id": "366631de-399e-4126-88ec-995830863020",
   "metadata": {},
   "outputs": [
    {
     "name": "stdout",
     "output_type": "stream",
     "text": [
      "MUHAMMAD DIMAS ARDIANSYAH\n"
     ]
    }
   ],
   "source": [
    "print(name.upper())\n"
   ]
  },
  {
   "cell_type": "code",
   "execution_count": 77,
   "id": "f2a4611b-7899-4396-b523-a1f59ac5349e",
   "metadata": {},
   "outputs": [
    {
     "name": "stdout",
     "output_type": "stream",
     "text": [
      "muhammad dimas ardiansyah\n"
     ]
    }
   ],
   "source": [
    "print(name.lower())"
   ]
  },
  {
   "cell_type": "code",
   "execution_count": 78,
   "id": "1347ef13-994c-440e-80e5-4b065fff995b",
   "metadata": {},
   "outputs": [
    {
     "name": "stdout",
     "output_type": "stream",
     "text": [
      "Muhammad Dimas Ardiansyah\n"
     ]
    }
   ],
   "source": [
    "print(name.title())"
   ]
  },
  {
   "cell_type": "code",
   "execution_count": 79,
   "id": "498d2d7f-3888-4de7-a7c1-b185140cce43",
   "metadata": {},
   "outputs": [
    {
     "name": "stdout",
     "output_type": "stream",
     "text": [
      "MUhamMaD DiMAs aRDIansYaH\n"
     ]
    }
   ],
   "source": [
    "print(name)"
   ]
  },
  {
   "cell_type": "code",
   "execution_count": null,
   "id": "2957b2dc-bed4-4d63-b7da-5532107aa04c",
   "metadata": {},
   "outputs": [],
   "source": []
  }
 ],
 "metadata": {
  "kernelspec": {
   "display_name": "Python 3 (ipykernel)",
   "language": "python",
   "name": "python3"
  },
  "language_info": {
   "codemirror_mode": {
    "name": "ipython",
    "version": 3
   },
   "file_extension": ".py",
   "mimetype": "text/x-python",
   "name": "python",
   "nbconvert_exporter": "python",
   "pygments_lexer": "ipython3",
   "version": "3.13.5"
  }
 },
 "nbformat": 4,
 "nbformat_minor": 5
}
